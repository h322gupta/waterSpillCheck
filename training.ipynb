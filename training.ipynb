{
  "nbformat": 4,
  "nbformat_minor": 0,
  "metadata": {
    "colab": {
      "provenance": []
    },
    "kernelspec": {
      "name": "python3",
      "display_name": "Python 3"
    },
    "language_info": {
      "name": "python"
    },
    "gpuClass": "standard"
  },
  "cells": [
    {
      "cell_type": "code",
      "execution_count": null,
      "metadata": {
        "id": "i7dXcfBHd8r_"
      },
      "outputs": [],
      "source": [
        "# Load Libraries\n",
        "import os\n",
        "import numpy as np\n",
        "import pandas as pd \n",
        "import cv2\n",
        "import matplotlib.pyplot as plt\n",
        "from sklearn import svm\n",
        "from sklearn.decomposition import PCA\n",
        "from sklearn.metrics import accuracy_score\n",
        "from keras import layers\n",
        "from keras.layers import Input, Dense, Activation, ZeroPadding2D, BatchNormalization, Flatten, Conv2D\n",
        "from keras.layers import AveragePooling2D, MaxPooling2D, Dropout, GlobalMaxPooling2D, GlobalAveragePooling2D\n",
        "from keras.applications import vgg16\n",
        "from keras.preprocessing.image import ImageDataGenerator\n",
        "from keras.models import Model\n",
        "from keras.models import Sequential\n",
        "from sklearn.model_selection import train_test_split\n",
        "\n",
        "%matplotlib inline"
      ]
    },
    {
      "cell_type": "code",
      "source": [
        "# Load images\n",
        "import random\n",
        "def load_im():\n",
        "    input_im, input_label = [], []\n",
        "    resize = (224, 224)\n",
        "    # Loop in folders\n",
        "    for dirname, _, filenames in os.walk('/content/drive/MyDrive/ProjectSettleMint/v2'):\n",
        "        random.shuffle(filenames)\n",
        "        filenames = filenames[:700]\n",
        "        for filename in filenames:\n",
        "            photo_path = os.path.join(dirname, filename)\n",
        "            photo_class = dirname.split('/')[-1]\n",
        "            try:\n",
        "                read_im = cv2.imread(photo_path)\n",
        "                input_im.append(cv2.resize(read_im, resize))\n",
        "                # potholes == 1\n",
        "                if photo_class == 'noWaterV1':\n",
        "                    input_label.append(1)\n",
        "                # normal == 0\n",
        "                elif photo_class == 'water':\n",
        "                    input_label.append(0)\n",
        "            except:\n",
        "                print(photo_path)\n",
        "    # return list of images and another list of correponding labels\n",
        "    return input_im, input_label\n",
        "\n",
        "input_im, input_label = load_im()"
      ],
      "metadata": {
        "id": "zNH8nCcwhQd2"
      },
      "execution_count": null,
      "outputs": []
    },
    {
      "cell_type": "code",
      "source": [],
      "metadata": {
        "id": "MCgWI9hEhQgT"
      },
      "execution_count": null,
      "outputs": []
    },
    {
      "cell_type": "code",
      "source": [],
      "metadata": {
        "id": "tfOdEywahQi-"
      },
      "execution_count": null,
      "outputs": []
    },
    {
      "cell_type": "code",
      "source": [
        "\n",
        "X_train, X_test, y_train, y_test = train_test_split(\n",
        "    np.array(input_im), np.array(input_label), test_size=0.3, random_state=26,shuffle=True)\n",
        "\n",
        "\n",
        "# # Split training data into training and validation sets\n",
        "# X_train, X_val, y_train, y_val = train_test_split(\n",
        "#     X_train, y_train, test_size=0.2, random_state=36 , shuffle = True)\n",
        "\n",
        "train_x, test_x, train_y, test_y, = X_train, X_test, y_train, y_test"
      ],
      "metadata": {
        "id": "3Od5KmqpshMk"
      },
      "execution_count": null,
      "outputs": []
    },
    {
      "cell_type": "code",
      "source": [
        "\n",
        "\n",
        "def append_im(input_im, input_label, im_iterator):\n",
        "    input_label_n = input_label.copy()\n",
        "    input_im_n = input_im.copy()\n",
        "    for i in range(len(im_iterator)):\n",
        "        im = im_iterator[i]\n",
        "        im = im.astype('uint8')\n",
        "        im_lbl = [input_label[i]]\n",
        "        input_im_n = np.append(input_im_n, im, axis = 0)\n",
        "        input_label_n = np.append(input_label_n, im_lbl, axis = 0)\n",
        "    return input_im_n, input_label_n\n",
        "\n"
      ],
      "metadata": {
        "id": "efIDt-ObhqCD"
      },
      "execution_count": null,
      "outputs": []
    },
    {
      "cell_type": "code",
      "source": [],
      "metadata": {
        "id": "4TF_H_Pi95J2"
      },
      "execution_count": null,
      "outputs": []
    },
    {
      "cell_type": "code",
      "source": [
        "# len(im_iterator) , len(input_label)"
      ],
      "metadata": {
        "id": "xTwmN6DPt1Oy"
      },
      "execution_count": null,
      "outputs": []
    },
    {
      "cell_type": "code",
      "source": [
        "# Flipping\n",
        "flip_data_generator = ImageDataGenerator(horizontal_flip = True)\n",
        "im_iterator = flip_data_generator.flow(train_x, batch_size = 1, shuffle = False)\n",
        "input_im_n, input_label_n = append_im(train_x, train_y, im_iterator)\n"
      ],
      "metadata": {
        "id": "oR8FQfm1hqOz"
      },
      "execution_count": null,
      "outputs": []
    },
    {
      "cell_type": "code",
      "source": [
        "\n",
        "\n",
        "# Reshape\n",
        "nx, ny, nz = train_x.shape[1], train_x.shape[2], train_x.shape[3]\n",
        "train_x_nn, test_x_nn = input_im_n, test_x\n",
        "train_x = input_im_n.reshape((input_im_n.shape[0], nx * ny * nz)) / 255\n",
        "test_x = test_x.reshape((test_x.shape[0], nx * ny * nz)) / 255\n",
        "train_y = input_label_n.reshape((input_label_n.shape[0], 1)) \n",
        "test_y = test_y.reshape((test_y.shape[0], 1)) \n",
        "\n",
        "\n",
        "del input_im_n\n",
        "del input_label_n"
      ],
      "metadata": {
        "id": "2lJEQ9BIhqRi"
      },
      "execution_count": null,
      "outputs": []
    },
    {
      "cell_type": "code",
      "source": [
        "from tensorflow import keras\n"
      ],
      "metadata": {
        "id": "J4e7VAAYhQlr"
      },
      "execution_count": null,
      "outputs": []
    },
    {
      "cell_type": "code",
      "source": [
        "def CNN():\n",
        "    CNN_model = Sequential()\n",
        "    \n",
        "    CNN_model.add(Conv2D(filters = 96, input_shape = (224, 224, 3), kernel_size = (11, 11), strides = (4, 4), padding = 'valid'))\n",
        "    CNN_model.add(Activation('relu'))\n",
        "    CNN_model.add(MaxPooling2D(pool_size = (2, 2), strides = (2, 2), padding = 'valid'))\n",
        "    \n",
        "    CNN_model.add(Conv2D(filters = 256,  kernel_size = (5, 5), strides = (1, 1), padding = 'valid'))\n",
        "    CNN_model.add(Activation('relu'))\n",
        "    CNN_model.add(MaxPooling2D(pool_size = (2, 2), strides = (2, 2), padding = 'valid'))\n",
        "    \n",
        "    CNN_model.add(Flatten())\n",
        "    CNN_model.add(Dense(512))\n",
        "    CNN_model.add(Activation('relu'))\n",
        "    \n",
        "    CNN_model.add(Dense(256))\n",
        "    CNN_model.add(Activation('relu'))\n",
        "    \n",
        "    CNN_model.add(Dense(1, activation = 'sigmoid'))\n",
        "    \n",
        "    return CNN_model\n",
        "\n",
        "# Compile Model\n",
        "cnn_model = CNN()\n",
        "cnn_model.compile(loss='binary_crossentropy', optimizer='adam', metrics=['accuracy']) \n"
      ],
      "metadata": {
        "id": "Oe4R-yQehQoe"
      },
      "execution_count": null,
      "outputs": []
    },
    {
      "cell_type": "code",
      "source": [
        "cnn_model.fit(train_x_nn/255, train_y, batch_size = 64, epochs = 15, verbose = 1)"
      ],
      "metadata": {
        "id": "N-x0YYqriAC-",
        "colab": {
          "base_uri": "https://localhost:8080/"
        },
        "outputId": "fdc39e1d-64e6-4193-b24e-61c4204471e5"
      },
      "execution_count": null,
      "outputs": [
        {
          "output_type": "stream",
          "name": "stdout",
          "text": [
            "Epoch 1/15\n",
            "31/31 [==============================] - 14s 68ms/step - loss: 0.7903 - accuracy: 0.5653\n",
            "Epoch 2/15\n",
            "31/31 [==============================] - 1s 42ms/step - loss: 0.4429 - accuracy: 0.8112\n",
            "Epoch 3/15\n",
            "31/31 [==============================] - 1s 40ms/step - loss: 0.3253 - accuracy: 0.8592\n",
            "Epoch 4/15\n",
            "31/31 [==============================] - 1s 41ms/step - loss: 0.2579 - accuracy: 0.8898\n",
            "Epoch 5/15\n",
            "31/31 [==============================] - 1s 41ms/step - loss: 0.2179 - accuracy: 0.9077\n",
            "Epoch 6/15\n",
            "31/31 [==============================] - 1s 40ms/step - loss: 0.1339 - accuracy: 0.9469\n",
            "Epoch 7/15\n",
            "31/31 [==============================] - 1s 40ms/step - loss: 0.0905 - accuracy: 0.9648\n",
            "Epoch 8/15\n",
            "31/31 [==============================] - 1s 40ms/step - loss: 0.0473 - accuracy: 0.9862\n",
            "Epoch 9/15\n",
            "31/31 [==============================] - 1s 40ms/step - loss: 0.0307 - accuracy: 0.9903\n",
            "Epoch 10/15\n",
            "31/31 [==============================] - 2s 55ms/step - loss: 0.0376 - accuracy: 0.9888\n",
            "Epoch 11/15\n",
            "31/31 [==============================] - 2s 57ms/step - loss: 0.0168 - accuracy: 0.9949\n",
            "Epoch 12/15\n",
            "31/31 [==============================] - 1s 44ms/step - loss: 0.0110 - accuracy: 0.9980\n",
            "Epoch 13/15\n",
            "31/31 [==============================] - 1s 40ms/step - loss: 0.0104 - accuracy: 0.9980\n",
            "Epoch 14/15\n",
            "31/31 [==============================] - 1s 41ms/step - loss: 0.0073 - accuracy: 0.9990\n",
            "Epoch 15/15\n",
            "31/31 [==============================] - 1s 42ms/step - loss: 0.0064 - accuracy: 0.9985\n"
          ]
        },
        {
          "output_type": "execute_result",
          "data": {
            "text/plain": [
              "<keras.callbacks.History at 0x7f05d0124fa0>"
            ]
          },
          "metadata": {},
          "execution_count": 11
        }
      ]
    },
    {
      "cell_type": "code",
      "source": [
        "print(cnn_model.metrics_names)\n",
        "print(cnn_model.evaluate(test_x_nn/255, test_y, verbose = 0))"
      ],
      "metadata": {
        "colab": {
          "base_uri": "https://localhost:8080/"
        },
        "id": "wtzutpb6i0Tr",
        "outputId": "2c58dac1-a555-4a41-dfd1-f153d2ad8dec"
      },
      "execution_count": null,
      "outputs": [
        {
          "output_type": "stream",
          "name": "stdout",
          "text": [
            "['loss', 'accuracy']\n",
            "[0.5249035358428955, 0.8952381014823914]\n"
          ]
        }
      ]
    },
    {
      "cell_type": "code",
      "source": [
        "pred = cnn_model.predict(test_x_nn/255)"
      ],
      "metadata": {
        "colab": {
          "base_uri": "https://localhost:8080/"
        },
        "id": "KEcOUMLEphD2",
        "outputId": "e2315a07-bb83-441c-f6dc-bcc85f2adaf7"
      },
      "execution_count": null,
      "outputs": [
        {
          "output_type": "stream",
          "name": "stdout",
          "text": [
            "14/14 [==============================] - 0s 17ms/step\n"
          ]
        }
      ]
    },
    {
      "cell_type": "code",
      "source": [
        "pred =  (pred > 0.5).astype(int)\n",
        "pred = pred.ravel()"
      ],
      "metadata": {
        "id": "uunE6IITpq_8"
      },
      "execution_count": null,
      "outputs": []
    },
    {
      "cell_type": "code",
      "source": [
        "from sklearn.metrics import classification_report\n",
        "target_labels = ['Water' ,'noWater']\n",
        "print(classification_report(test_y, pred))\n"
      ],
      "metadata": {
        "colab": {
          "base_uri": "https://localhost:8080/"
        },
        "id": "3fGTCJJtpvMI",
        "outputId": "3165e040-b6d5-4bd4-98c9-74d8e661ce1e"
      },
      "execution_count": null,
      "outputs": [
        {
          "output_type": "stream",
          "name": "stdout",
          "text": [
            "              precision    recall  f1-score   support\n",
            "\n",
            "           0       0.89      0.91      0.90       214\n",
            "           1       0.91      0.88      0.89       206\n",
            "\n",
            "    accuracy                           0.90       420\n",
            "   macro avg       0.90      0.89      0.90       420\n",
            "weighted avg       0.90      0.90      0.90       420\n",
            "\n"
          ]
        }
      ]
    },
    {
      "cell_type": "code",
      "source": [
        "import numpy as np\n",
        "import matplotlib.pyplot as plt\n",
        "from sklearn.metrics import roc_curve, roc_auc_score\n",
        "\n",
        "# assuming y_test contains the true labels and y_pred contains the predicted probabilities of class 1\n",
        "fpr, tpr, thresholds = roc_curve(test_y, pred)\n",
        "roc_auc = roc_auc_score(test_y, pred)\n",
        "\n",
        "# plot ROC curve\n",
        "plt.plot(fpr, tpr, label='ROC curve (area = %0.2f)' % roc_auc)\n",
        "plt.plot([0, 1], [0, 1], 'k--')  # plot diagonal line\n",
        "plt.xlabel('False Positive Rate')\n",
        "plt.ylabel('True Positive Rate')\n",
        "plt.title('Receiver Operating Characteristic (ROC) Curve')\n",
        "plt.legend(loc=\"lower right\")\n",
        "plt.show()\n"
      ],
      "metadata": {
        "colab": {
          "base_uri": "https://localhost:8080/",
          "height": 472
        },
        "id": "MNEahberqEOk",
        "outputId": "d81a5caf-c429-46fc-e541-55f1ce67a9e7"
      },
      "execution_count": null,
      "outputs": [
        {
          "output_type": "display_data",
          "data": {
            "text/plain": [
              "<Figure size 640x480 with 1 Axes>"
            ],
            "image/png": "[encoded data removed]"
          },
          "metadata": {}
        }
      ]
    },
    {
      "cell_type": "code",
      "source": [
        "# cnn_model.save('/content/drive/MyDrive/ProjectSettleMint/model_cnn_2')\n",
        "# cnn_model = keras.models.load_model(\"/content/drive/MyDrive/ProjectSettleMint/model_cnn_1\")\n"
      ],
      "metadata": {
        "id": "oVkFQ--44KNn"
      },
      "execution_count": 6,
      "outputs": []
    },
    {
      "cell_type": "code",
      "source": [
        "# url = \\\n",
        "# 'https://encrypted-tbn0.gstatic.com/images?q=tbn:ANd9GcQ25RbHU5on7xswnSjR85XC7gbNlRfrtdT7Sw&usqp=CAU'"
      ],
      "metadata": {
        "id": "m1Fq4her7Bws"
      },
      "execution_count": 1,
      "outputs": []
    },
    {
      "cell_type": "code",
      "source": [
        "# import urllib.request\n",
        "# import numpy as np\n",
        "# # URL of the image to read\n",
        "\n",
        "# # read the image from the URL\n",
        "# with urllib.request.urlopen(url) as url_response:\n",
        "#     s = url_response.read()\n",
        "\n",
        "# # convert the image bytes to a numpy array\n",
        "# arr = np.asarray(bytearray(s), dtype=np.uint8)\n",
        "# resize = (224, 224)\n",
        "\n",
        "# # decode the numpy array as an OpenCV image\n",
        "# img = cv2.imdecode(arr, cv2.IMREAD_UNCHANGED)\n",
        "# imgg = cv2.resize(img, resize)\n",
        "# imgg1 = imgg.reshape(-1,224,224,3)\n",
        "# # cv2_imshow(img)"
      ],
      "metadata": {
        "id": "-C_69QDJ7NFp"
      },
      "execution_count": 2,
      "outputs": []
    },
    {
      "cell_type": "code",
      "source": [
        "# photo_path = '/content/drive/MyDrive/carsData/6070519abaef3f56aa24cf39/scraped_FNoCNv_1617825231270.jpg'\n",
        "# imgg = cv2.imread(photo_path)\n",
        "\n",
        "\n",
        "# cnn_model.predict(imgg1/255.0)"
      ],
      "metadata": {
        "id": "X-EH2tIg45de"
      },
      "execution_count": 3,
      "outputs": []
    },
    {
      "cell_type": "code",
      "source": [
        "# from google.colab.patches import cv2_imshow"
      ],
      "metadata": {
        "id": "MLS0CmJ35UoZ"
      },
      "execution_count": 4,
      "outputs": []
    },
    {
      "cell_type": "code",
      "source": [
        "# cv2_imshow(imgg)"
      ],
      "metadata": {
        "id": "iYFTVcMR5jKR"
      },
      "execution_count": 5,
      "outputs": []
    },
    {
      "cell_type": "code",
      "source": [],
      "metadata": {
        "id": "QvCk3Gah5wsN"
      },
      "execution_count": null,
      "outputs": []
    },
    {
      "cell_type": "markdown",
      "source": [
        "\n"
      ],
      "metadata": {
        "id": "hXERM8acJ1h2"
      }
    },
    {
      "cell_type": "code",
      "source": [],
      "metadata": {
        "id": "5qNnFn_Qwgvd"
      },
      "execution_count": null,
      "outputs": []
    }
  ]
}